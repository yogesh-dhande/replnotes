{
 "cells": [
  {
   "cell_type": "markdown",
   "source": [
    "# Title: Magic commands - 2\n",
    "##   url: commands-2\n",
    "### tags: Tag-2, Tag-20"
   ],
   "metadata": {}
  },
  {
   "cell_type": "markdown",
   "source": [
    "# This is a test notebook that uses a variety of spaces and #s around magic tags\n",
    "\n",
    "- title should populate as `Magic commands - 2`\n",
    "- url should populate as `commands-2`\n",
    "- tags should populate as `Tag-2, Tag-20`\n",
    "- description should not populate"
   ],
   "metadata": {}
  },
  {
   "cell_type": "markdown",
   "source": [],
   "metadata": {}
  }
 ],
 "metadata": {
  "orig_nbformat": 4,
  "language_info": {
   "name": "python"
  }
 },
 "nbformat": 4,
 "nbformat_minor": 2
}