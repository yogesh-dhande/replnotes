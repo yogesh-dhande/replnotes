{
 "cells": [
  {
   "cell_type": "markdown",
   "source": [
    "# Title: Magic commands - 2\n",
    "##   url: commands-2   ##\n",
    "### tags: Tag-2, Tag-20\n",
    "### description: Test post description 2."
   ],
   "metadata": {}
  },
  {
   "cell_type": "markdown",
   "source": [
    "# This is a test notebook that uses a variaty of spaces and #s around magic tags\n",
    "\n",
    "- title should populate as `Magic commands - 2`\n",
    "- url should populate as `commands-2`\n",
    "- tags should populate as `Tag-2, Tag-20`\n",
    "- description should populate as `Test post description 2.` "
   ],
   "metadata": {}
  },
  {
   "cell_type": "markdown",
   "source": [],
   "metadata": {}
  }
 ],
 "metadata": {
  "orig_nbformat": 4,
  "language_info": {
   "name": "python"
  }
 },
 "nbformat": 4,
 "nbformat_minor": 2
}